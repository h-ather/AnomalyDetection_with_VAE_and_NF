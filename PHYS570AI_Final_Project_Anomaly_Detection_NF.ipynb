{
  "nbformat": 4,
  "nbformat_minor": 0,
  "metadata": {
    "colab": {
      "provenance": [],
      "gpuType": "T4",
      "collapsed_sections": [
        "FnwvJSRufHIL",
        "1TUBqXsEf_Dn",
        "Z6ZoKIuyXUeV",
        "5AEehPt9kvow",
        "tTQ2rMAApJYJ"
      ],
      "toc_visible": true,
      "include_colab_link": true
    },
    "kernelspec": {
      "name": "python3",
      "display_name": "Python 3"
    },
    "language_info": {
      "name": "python"
    },
    "accelerator": "GPU",
    "widgets": {
      "application/vnd.jupyter.widget-state+json": {
        "f7c660b617f04d839b965a29e0857277": {
          "model_module": "@jupyter-widgets/controls",
          "model_name": "HBoxModel",
          "model_module_version": "1.5.0",
          "state": {
            "_dom_classes": [],
            "_model_module": "@jupyter-widgets/controls",
            "_model_module_version": "1.5.0",
            "_model_name": "HBoxModel",
            "_view_count": null,
            "_view_module": "@jupyter-widgets/controls",
            "_view_module_version": "1.5.0",
            "_view_name": "HBoxView",
            "box_style": "",
            "children": [
              "IPY_MODEL_e3f9c800707b4cc0841c503059f81ae7",
              "IPY_MODEL_fe0473ad068c4afbad7b2ee7dbe57573",
              "IPY_MODEL_d1d4e3dc279c462ebfd67ebd6961de6f"
            ],
            "layout": "IPY_MODEL_ba559e51277943278018449ec68c094e"
          }
        },
        "e3f9c800707b4cc0841c503059f81ae7": {
          "model_module": "@jupyter-widgets/controls",
          "model_name": "HTMLModel",
          "model_module_version": "1.5.0",
          "state": {
            "_dom_classes": [],
            "_model_module": "@jupyter-widgets/controls",
            "_model_module_version": "1.5.0",
            "_model_name": "HTMLModel",
            "_view_count": null,
            "_view_module": "@jupyter-widgets/controls",
            "_view_module_version": "1.5.0",
            "_view_name": "HTMLView",
            "description": "",
            "description_tooltip": null,
            "layout": "IPY_MODEL_6a2001dafae440888422bbe835034aba",
            "placeholder": "​",
            "style": "IPY_MODEL_acd81a5d63944527b40f6fb59abb2c7f",
            "value": "Epoch 6:  45%"
          }
        },
        "fe0473ad068c4afbad7b2ee7dbe57573": {
          "model_module": "@jupyter-widgets/controls",
          "model_name": "FloatProgressModel",
          "model_module_version": "1.5.0",
          "state": {
            "_dom_classes": [],
            "_model_module": "@jupyter-widgets/controls",
            "_model_module_version": "1.5.0",
            "_model_name": "FloatProgressModel",
            "_view_count": null,
            "_view_module": "@jupyter-widgets/controls",
            "_view_module_version": "1.5.0",
            "_view_name": "ProgressView",
            "bar_style": "",
            "description": "",
            "description_tooltip": null,
            "layout": "IPY_MODEL_ce03c07fdc434530b0b7b14fac7d8470",
            "max": 399,
            "min": 0,
            "orientation": "horizontal",
            "style": "IPY_MODEL_43b33930504141f9adf793f3ce743776",
            "value": 200
          }
        },
        "d1d4e3dc279c462ebfd67ebd6961de6f": {
          "model_module": "@jupyter-widgets/controls",
          "model_name": "HTMLModel",
          "model_module_version": "1.5.0",
          "state": {
            "_dom_classes": [],
            "_model_module": "@jupyter-widgets/controls",
            "_model_module_version": "1.5.0",
            "_model_name": "HTMLModel",
            "_view_count": null,
            "_view_module": "@jupyter-widgets/controls",
            "_view_module_version": "1.5.0",
            "_view_name": "HTMLView",
            "description": "",
            "description_tooltip": null,
            "layout": "IPY_MODEL_f1c603b9cfa545819695752ab44f0cd5",
            "placeholder": "​",
            "style": "IPY_MODEL_1e7d0f4ab4414d67a598bc5086bbbb98",
            "value": " 180/399 [00:01&lt;00:01, 116.50it/s, v_num=0, total_loss=-3.51, recon_loss=0.000278, kld=1.280, log_det=3.580]"
          }
        },
        "ba559e51277943278018449ec68c094e": {
          "model_module": "@jupyter-widgets/base",
          "model_name": "LayoutModel",
          "model_module_version": "1.2.0",
          "state": {
            "_model_module": "@jupyter-widgets/base",
            "_model_module_version": "1.2.0",
            "_model_name": "LayoutModel",
            "_view_count": null,
            "_view_module": "@jupyter-widgets/base",
            "_view_module_version": "1.2.0",
            "_view_name": "LayoutView",
            "align_content": null,
            "align_items": null,
            "align_self": null,
            "border": null,
            "bottom": null,
            "display": "inline-flex",
            "flex": null,
            "flex_flow": "row wrap",
            "grid_area": null,
            "grid_auto_columns": null,
            "grid_auto_flow": null,
            "grid_auto_rows": null,
            "grid_column": null,
            "grid_gap": null,
            "grid_row": null,
            "grid_template_areas": null,
            "grid_template_columns": null,
            "grid_template_rows": null,
            "height": null,
            "justify_content": null,
            "justify_items": null,
            "left": null,
            "margin": null,
            "max_height": null,
            "max_width": null,
            "min_height": null,
            "min_width": null,
            "object_fit": null,
            "object_position": null,
            "order": null,
            "overflow": null,
            "overflow_x": null,
            "overflow_y": null,
            "padding": null,
            "right": null,
            "top": null,
            "visibility": null,
            "width": "100%"
          }
        },
        "6a2001dafae440888422bbe835034aba": {
          "model_module": "@jupyter-widgets/base",
          "model_name": "LayoutModel",
          "model_module_version": "1.2.0",
          "state": {
            "_model_module": "@jupyter-widgets/base",
            "_model_module_version": "1.2.0",
            "_model_name": "LayoutModel",
            "_view_count": null,
            "_view_module": "@jupyter-widgets/base",
            "_view_module_version": "1.2.0",
            "_view_name": "LayoutView",
            "align_content": null,
            "align_items": null,
            "align_self": null,
            "border": null,
            "bottom": null,
            "display": null,
            "flex": null,
            "flex_flow": null,
            "grid_area": null,
            "grid_auto_columns": null,
            "grid_auto_flow": null,
            "grid_auto_rows": null,
            "grid_column": null,
            "grid_gap": null,
            "grid_row": null,
            "grid_template_areas": null,
            "grid_template_columns": null,
            "grid_template_rows": null,
            "height": null,
            "justify_content": null,
            "justify_items": null,
            "left": null,
            "margin": null,
            "max_height": null,
            "max_width": null,
            "min_height": null,
            "min_width": null,
            "object_fit": null,
            "object_position": null,
            "order": null,
            "overflow": null,
            "overflow_x": null,
            "overflow_y": null,
            "padding": null,
            "right": null,
            "top": null,
            "visibility": null,
            "width": null
          }
        },
        "acd81a5d63944527b40f6fb59abb2c7f": {
          "model_module": "@jupyter-widgets/controls",
          "model_name": "DescriptionStyleModel",
          "model_module_version": "1.5.0",
          "state": {
            "_model_module": "@jupyter-widgets/controls",
            "_model_module_version": "1.5.0",
            "_model_name": "DescriptionStyleModel",
            "_view_count": null,
            "_view_module": "@jupyter-widgets/base",
            "_view_module_version": "1.2.0",
            "_view_name": "StyleView",
            "description_width": ""
          }
        },
        "ce03c07fdc434530b0b7b14fac7d8470": {
          "model_module": "@jupyter-widgets/base",
          "model_name": "LayoutModel",
          "model_module_version": "1.2.0",
          "state": {
            "_model_module": "@jupyter-widgets/base",
            "_model_module_version": "1.2.0",
            "_model_name": "LayoutModel",
            "_view_count": null,
            "_view_module": "@jupyter-widgets/base",
            "_view_module_version": "1.2.0",
            "_view_name": "LayoutView",
            "align_content": null,
            "align_items": null,
            "align_self": null,
            "border": null,
            "bottom": null,
            "display": null,
            "flex": "2",
            "flex_flow": null,
            "grid_area": null,
            "grid_auto_columns": null,
            "grid_auto_flow": null,
            "grid_auto_rows": null,
            "grid_column": null,
            "grid_gap": null,
            "grid_row": null,
            "grid_template_areas": null,
            "grid_template_columns": null,
            "grid_template_rows": null,
            "height": null,
            "justify_content": null,
            "justify_items": null,
            "left": null,
            "margin": null,
            "max_height": null,
            "max_width": null,
            "min_height": null,
            "min_width": null,
            "object_fit": null,
            "object_position": null,
            "order": null,
            "overflow": null,
            "overflow_x": null,
            "overflow_y": null,
            "padding": null,
            "right": null,
            "top": null,
            "visibility": null,
            "width": null
          }
        },
        "43b33930504141f9adf793f3ce743776": {
          "model_module": "@jupyter-widgets/controls",
          "model_name": "ProgressStyleModel",
          "model_module_version": "1.5.0",
          "state": {
            "_model_module": "@jupyter-widgets/controls",
            "_model_module_version": "1.5.0",
            "_model_name": "ProgressStyleModel",
            "_view_count": null,
            "_view_module": "@jupyter-widgets/base",
            "_view_module_version": "1.2.0",
            "_view_name": "StyleView",
            "bar_color": null,
            "description_width": ""
          }
        },
        "f1c603b9cfa545819695752ab44f0cd5": {
          "model_module": "@jupyter-widgets/base",
          "model_name": "LayoutModel",
          "model_module_version": "1.2.0",
          "state": {
            "_model_module": "@jupyter-widgets/base",
            "_model_module_version": "1.2.0",
            "_model_name": "LayoutModel",
            "_view_count": null,
            "_view_module": "@jupyter-widgets/base",
            "_view_module_version": "1.2.0",
            "_view_name": "LayoutView",
            "align_content": null,
            "align_items": null,
            "align_self": null,
            "border": null,
            "bottom": null,
            "display": null,
            "flex": null,
            "flex_flow": null,
            "grid_area": null,
            "grid_auto_columns": null,
            "grid_auto_flow": null,
            "grid_auto_rows": null,
            "grid_column": null,
            "grid_gap": null,
            "grid_row": null,
            "grid_template_areas": null,
            "grid_template_columns": null,
            "grid_template_rows": null,
            "height": null,
            "justify_content": null,
            "justify_items": null,
            "left": null,
            "margin": null,
            "max_height": null,
            "max_width": null,
            "min_height": null,
            "min_width": null,
            "object_fit": null,
            "object_position": null,
            "order": null,
            "overflow": null,
            "overflow_x": null,
            "overflow_y": null,
            "padding": null,
            "right": null,
            "top": null,
            "visibility": null,
            "width": null
          }
        },
        "1e7d0f4ab4414d67a598bc5086bbbb98": {
          "model_module": "@jupyter-widgets/controls",
          "model_name": "DescriptionStyleModel",
          "model_module_version": "1.5.0",
          "state": {
            "_model_module": "@jupyter-widgets/controls",
            "_model_module_version": "1.5.0",
            "_model_name": "DescriptionStyleModel",
            "_view_count": null,
            "_view_module": "@jupyter-widgets/base",
            "_view_module_version": "1.2.0",
            "_view_name": "StyleView",
            "description_width": ""
          }
        }
      }
    }
  },
  "cells": [
    {
      "cell_type": "markdown",
      "metadata": {
        "id": "view-in-github",
        "colab_type": "text"
      },
      "source": [
        "<a href=\"https://colab.research.google.com/github/h-ather/AnomalyDetection_with_VAE_and_NF/blob/main/PHYS570AI_Final_Project_Anomaly_Detection_NF.ipynb\" target=\"_parent\"><img src=\"https://colab.research.google.com/assets/colab-badge.svg\" alt=\"Open In Colab\"/></a>"
      ]
    },
    {
      "cell_type": "markdown",
      "source": [
        "## Loading Libraries and Packages"
      ],
      "metadata": {
        "id": "GWJErI9Rj5cL"
      }
    },
    {
      "cell_type": "code",
      "source": [
        "from google.colab import files\n",
        "import torch\n",
        "from torch import Tensor\n",
        "from torch.utils.data import Dataset, DataLoader\n",
        "import torch.nn as nn\n",
        "from sklearn import metrics\n",
        "from torch import optim\n",
        "import matplotlib.pyplot as plt\n",
        "import torchvision.transforms as transforms\n",
        "from mpl_toolkits.axes_grid1 import ImageGrid\n",
        "import pandas as pd\n",
        "import numpy as np\n",
        "from sklearn.model_selection import train_test_split\n",
        "from tqdm import tqdm\n",
        "import matplotlib.pyplot as plt\n",
        "from sklearn.metrics import roc_auc_score\n",
        "from torch.distributions import MultivariateNormal\n",
        "!pip install pytorch_lightning -qq\n",
        "!pip install normflows\n",
        "import pytorch_lightning as pl\n",
        "import normflows as nf"
      ],
      "metadata": {
        "id": "xy4FGZx-k_ML",
        "outputId": "bc187fe5-4a7b-4fbe-d733-719af9eb5067",
        "colab": {
          "base_uri": "https://localhost:8080/"
        }
      },
      "execution_count": null,
      "outputs": [
        {
          "output_type": "stream",
          "name": "stdout",
          "text": [
            "\u001b[2K     \u001b[90m━━━━━━━━━━━━━━━━━━━━━━━━━━━━━━━━━━━━━━━━\u001b[0m \u001b[32m776.9/776.9 kB\u001b[0m \u001b[31m7.0 MB/s\u001b[0m eta \u001b[36m0:00:00\u001b[0m\n",
            "\u001b[2K     \u001b[90m━━━━━━━━━━━━━━━━━━━━━━━━━━━━━━━━━━━━━━━━\u001b[0m \u001b[32m806.1/806.1 kB\u001b[0m \u001b[31m14.5 MB/s\u001b[0m eta \u001b[36m0:00:00\u001b[0m\n",
            "\u001b[?25hCollecting normflows\n",
            "  Downloading normflows-1.7.3.tar.gz (65 kB)\n",
            "\u001b[2K     \u001b[90m━━━━━━━━━━━━━━━━━━━━━━━━━━━━━━━━━━━━━━━━\u001b[0m \u001b[32m65.3/65.3 kB\u001b[0m \u001b[31m1.1 MB/s\u001b[0m eta \u001b[36m0:00:00\u001b[0m\n",
            "\u001b[?25h  Preparing metadata (setup.py) ... \u001b[?25l\u001b[?25hdone\n",
            "Requirement already satisfied: numpy in /usr/local/lib/python3.10/dist-packages (from normflows) (1.23.5)\n",
            "Requirement already satisfied: torch in /usr/local/lib/python3.10/dist-packages (from normflows) (2.1.0+cu118)\n",
            "Requirement already satisfied: filelock in /usr/local/lib/python3.10/dist-packages (from torch->normflows) (3.13.1)\n",
            "Requirement already satisfied: typing-extensions in /usr/local/lib/python3.10/dist-packages (from torch->normflows) (4.5.0)\n",
            "Requirement already satisfied: sympy in /usr/local/lib/python3.10/dist-packages (from torch->normflows) (1.12)\n",
            "Requirement already satisfied: networkx in /usr/local/lib/python3.10/dist-packages (from torch->normflows) (3.2.1)\n",
            "Requirement already satisfied: jinja2 in /usr/local/lib/python3.10/dist-packages (from torch->normflows) (3.1.2)\n",
            "Requirement already satisfied: fsspec in /usr/local/lib/python3.10/dist-packages (from torch->normflows) (2023.6.0)\n",
            "Requirement already satisfied: triton==2.1.0 in /usr/local/lib/python3.10/dist-packages (from torch->normflows) (2.1.0)\n",
            "Requirement already satisfied: MarkupSafe>=2.0 in /usr/local/lib/python3.10/dist-packages (from jinja2->torch->normflows) (2.1.3)\n",
            "Requirement already satisfied: mpmath>=0.19 in /usr/local/lib/python3.10/dist-packages (from sympy->torch->normflows) (1.3.0)\n",
            "Building wheels for collected packages: normflows\n",
            "  Building wheel for normflows (setup.py) ... \u001b[?25l\u001b[?25hdone\n",
            "  Created wheel for normflows: filename=normflows-1.7.3-py2.py3-none-any.whl size=87245 sha256=778f97919319f4d8b1f7a942a6ff9f11e013a08d6eaaae932f416749bcd41b9f\n",
            "  Stored in directory: /root/.cache/pip/wheels/08/b1/a6/f018e29f12dc6251793263911d14764ddad0a6844f7b024007\n",
            "Successfully built normflows\n",
            "Installing collected packages: normflows\n",
            "Successfully installed normflows-1.7.3\n"
          ]
        }
      ]
    },
    {
      "cell_type": "markdown",
      "source": [
        "## Upload Dataset"
      ],
      "metadata": {
        "id": "FnwvJSRufHIL"
      }
    },
    {
      "cell_type": "code",
      "source": [
        "# Upload Dataset\n",
        "print(\"Upload higgs-boson.zip dataset files\")\n",
        "print(\" \")\n",
        "print(\" \")\n",
        "files.upload()"
      ],
      "metadata": {
        "colab": {
          "base_uri": "https://localhost:8080/",
          "height": 125
        },
        "id": "OxloXoYhdSRF",
        "outputId": "2de87b41-5430-4de4-98c5-f1990ce542ab"
      },
      "execution_count": null,
      "outputs": [
        {
          "output_type": "stream",
          "name": "stdout",
          "text": [
            "Upload higgs-boson.zip dataset files\n",
            " \n",
            " \n"
          ]
        },
        {
          "output_type": "display_data",
          "data": {
            "text/plain": [
              "<IPython.core.display.HTML object>"
            ],
            "text/html": [
              "\n",
              "     <input type=\"file\" id=\"files-218feee0-0a92-4f90-b6ae-7f7a20f093e8\" name=\"files[]\" multiple disabled\n",
              "        style=\"border:none\" />\n",
              "     <output id=\"result-218feee0-0a92-4f90-b6ae-7f7a20f093e8\">\n",
              "      Upload widget is only available when the cell has been executed in the\n",
              "      current browser session. Please rerun this cell to enable.\n",
              "      </output>\n",
              "      <script>// Copyright 2017 Google LLC\n",
              "//\n",
              "// Licensed under the Apache License, Version 2.0 (the \"License\");\n",
              "// you may not use this file except in compliance with the License.\n",
              "// You may obtain a copy of the License at\n",
              "//\n",
              "//      http://www.apache.org/licenses/LICENSE-2.0\n",
              "//\n",
              "// Unless required by applicable law or agreed to in writing, software\n",
              "// distributed under the License is distributed on an \"AS IS\" BASIS,\n",
              "// WITHOUT WARRANTIES OR CONDITIONS OF ANY KIND, either express or implied.\n",
              "// See the License for the specific language governing permissions and\n",
              "// limitations under the License.\n",
              "\n",
              "/**\n",
              " * @fileoverview Helpers for google.colab Python module.\n",
              " */\n",
              "(function(scope) {\n",
              "function span(text, styleAttributes = {}) {\n",
              "  const element = document.createElement('span');\n",
              "  element.textContent = text;\n",
              "  for (const key of Object.keys(styleAttributes)) {\n",
              "    element.style[key] = styleAttributes[key];\n",
              "  }\n",
              "  return element;\n",
              "}\n",
              "\n",
              "// Max number of bytes which will be uploaded at a time.\n",
              "const MAX_PAYLOAD_SIZE = 100 * 1024;\n",
              "\n",
              "function _uploadFiles(inputId, outputId) {\n",
              "  const steps = uploadFilesStep(inputId, outputId);\n",
              "  const outputElement = document.getElementById(outputId);\n",
              "  // Cache steps on the outputElement to make it available for the next call\n",
              "  // to uploadFilesContinue from Python.\n",
              "  outputElement.steps = steps;\n",
              "\n",
              "  return _uploadFilesContinue(outputId);\n",
              "}\n",
              "\n",
              "// This is roughly an async generator (not supported in the browser yet),\n",
              "// where there are multiple asynchronous steps and the Python side is going\n",
              "// to poll for completion of each step.\n",
              "// This uses a Promise to block the python side on completion of each step,\n",
              "// then passes the result of the previous step as the input to the next step.\n",
              "function _uploadFilesContinue(outputId) {\n",
              "  const outputElement = document.getElementById(outputId);\n",
              "  const steps = outputElement.steps;\n",
              "\n",
              "  const next = steps.next(outputElement.lastPromiseValue);\n",
              "  return Promise.resolve(next.value.promise).then((value) => {\n",
              "    // Cache the last promise value to make it available to the next\n",
              "    // step of the generator.\n",
              "    outputElement.lastPromiseValue = value;\n",
              "    return next.value.response;\n",
              "  });\n",
              "}\n",
              "\n",
              "/**\n",
              " * Generator function which is called between each async step of the upload\n",
              " * process.\n",
              " * @param {string} inputId Element ID of the input file picker element.\n",
              " * @param {string} outputId Element ID of the output display.\n",
              " * @return {!Iterable<!Object>} Iterable of next steps.\n",
              " */\n",
              "function* uploadFilesStep(inputId, outputId) {\n",
              "  const inputElement = document.getElementById(inputId);\n",
              "  inputElement.disabled = false;\n",
              "\n",
              "  const outputElement = document.getElementById(outputId);\n",
              "  outputElement.innerHTML = '';\n",
              "\n",
              "  const pickedPromise = new Promise((resolve) => {\n",
              "    inputElement.addEventListener('change', (e) => {\n",
              "      resolve(e.target.files);\n",
              "    });\n",
              "  });\n",
              "\n",
              "  const cancel = document.createElement('button');\n",
              "  inputElement.parentElement.appendChild(cancel);\n",
              "  cancel.textContent = 'Cancel upload';\n",
              "  const cancelPromise = new Promise((resolve) => {\n",
              "    cancel.onclick = () => {\n",
              "      resolve(null);\n",
              "    };\n",
              "  });\n",
              "\n",
              "  // Wait for the user to pick the files.\n",
              "  const files = yield {\n",
              "    promise: Promise.race([pickedPromise, cancelPromise]),\n",
              "    response: {\n",
              "      action: 'starting',\n",
              "    }\n",
              "  };\n",
              "\n",
              "  cancel.remove();\n",
              "\n",
              "  // Disable the input element since further picks are not allowed.\n",
              "  inputElement.disabled = true;\n",
              "\n",
              "  if (!files) {\n",
              "    return {\n",
              "      response: {\n",
              "        action: 'complete',\n",
              "      }\n",
              "    };\n",
              "  }\n",
              "\n",
              "  for (const file of files) {\n",
              "    const li = document.createElement('li');\n",
              "    li.append(span(file.name, {fontWeight: 'bold'}));\n",
              "    li.append(span(\n",
              "        `(${file.type || 'n/a'}) - ${file.size} bytes, ` +\n",
              "        `last modified: ${\n",
              "            file.lastModifiedDate ? file.lastModifiedDate.toLocaleDateString() :\n",
              "                                    'n/a'} - `));\n",
              "    const percent = span('0% done');\n",
              "    li.appendChild(percent);\n",
              "\n",
              "    outputElement.appendChild(li);\n",
              "\n",
              "    const fileDataPromise = new Promise((resolve) => {\n",
              "      const reader = new FileReader();\n",
              "      reader.onload = (e) => {\n",
              "        resolve(e.target.result);\n",
              "      };\n",
              "      reader.readAsArrayBuffer(file);\n",
              "    });\n",
              "    // Wait for the data to be ready.\n",
              "    let fileData = yield {\n",
              "      promise: fileDataPromise,\n",
              "      response: {\n",
              "        action: 'continue',\n",
              "      }\n",
              "    };\n",
              "\n",
              "    // Use a chunked sending to avoid message size limits. See b/62115660.\n",
              "    let position = 0;\n",
              "    do {\n",
              "      const length = Math.min(fileData.byteLength - position, MAX_PAYLOAD_SIZE);\n",
              "      const chunk = new Uint8Array(fileData, position, length);\n",
              "      position += length;\n",
              "\n",
              "      const base64 = btoa(String.fromCharCode.apply(null, chunk));\n",
              "      yield {\n",
              "        response: {\n",
              "          action: 'append',\n",
              "          file: file.name,\n",
              "          data: base64,\n",
              "        },\n",
              "      };\n",
              "\n",
              "      let percentDone = fileData.byteLength === 0 ?\n",
              "          100 :\n",
              "          Math.round((position / fileData.byteLength) * 100);\n",
              "      percent.textContent = `${percentDone}% done`;\n",
              "\n",
              "    } while (position < fileData.byteLength);\n",
              "  }\n",
              "\n",
              "  // All done.\n",
              "  yield {\n",
              "    response: {\n",
              "      action: 'complete',\n",
              "    }\n",
              "  };\n",
              "}\n",
              "\n",
              "scope.google = scope.google || {};\n",
              "scope.google.colab = scope.google.colab || {};\n",
              "scope.google.colab._files = {\n",
              "  _uploadFiles,\n",
              "  _uploadFilesContinue,\n",
              "};\n",
              "})(self);\n",
              "</script> "
            ]
          },
          "metadata": {}
        },
        {
          "output_type": "stream",
          "name": "stdout",
          "text": [
            "Saving higgs-boson.zip to higgs-boson.zip\n"
          ]
        }
      ]
    },
    {
      "cell_type": "code",
      "source": [
        "# unzip data to higgs-boson\n",
        "! unzip higgs-boson.zip -d higgs-boson\n",
        "\n",
        "# unzip train datas (test here is not used)\n",
        "! unzip ./higgs-boson/test.zip -d ./higgs-boson/test/\n",
        "! unzip ./higgs-boson/training.zip -d ./higgs-boson/training/"
      ],
      "metadata": {
        "colab": {
          "base_uri": "https://localhost:8080/"
        },
        "id": "yqwFTVCodPKb",
        "outputId": "ffc351d3-0704-46af-8e85-193f3fa1b073"
      },
      "execution_count": null,
      "outputs": [
        {
          "output_type": "stream",
          "name": "stdout",
          "text": [
            "Archive:  higgs-boson.zip\n",
            "  inflating: higgs-boson/HiggsBosonCompetition_AMSMetric_rev1.py  \n",
            "  inflating: higgs-boson/random_submission.zip  \n",
            "  inflating: higgs-boson/test.zip    \n",
            "  inflating: higgs-boson/training.zip  \n",
            "Archive:  ./higgs-boson/test.zip\n",
            "  inflating: ./higgs-boson/test/test.csv  \n",
            "Archive:  ./higgs-boson/training.zip\n",
            "  inflating: ./higgs-boson/training/training.csv  \n"
          ]
        }
      ]
    },
    {
      "cell_type": "markdown",
      "source": [
        "## Set Hyperparameters"
      ],
      "metadata": {
        "id": "1TUBqXsEf_Dn"
      }
    },
    {
      "cell_type": "code",
      "source": [
        "# HyperParameters\n",
        "\n",
        "batch_size=64 # best 64\n",
        "n_epochs=50\n",
        "input_dim = 30  # X_train.shape[-1]\n",
        "output_dim = input_dim\n",
        "latent_dim=10 # best 10\n",
        "layer_dims=np.array([input_dim,20,latent_dim])\n",
        "stdev=0.01 # best 0.01\n",
        "learning_rate=1e-2 # best 1e-2\n",
        "l2_regularizer=5e-3 # best 5e-3\n",
        "\n",
        "\n",
        "n_flows=2\n",
        "# num_blocks=2\n",
        "hidden_flow_size=10"
      ],
      "metadata": {
        "id": "mDmewDt4f9zS"
      },
      "execution_count": null,
      "outputs": []
    },
    {
      "cell_type": "markdown",
      "source": [
        "## Data Loading"
      ],
      "metadata": {
        "id": "Z6ZoKIuyXUeV"
      }
    },
    {
      "cell_type": "code",
      "source": [
        "# Define dataset class\n",
        "class CustomDataset(Dataset):\n",
        "  def __init__(self, X: Tensor, labels: Tensor):\n",
        "    self.X = X\n",
        "    self.Y = labels\n",
        "  def __len__(self):\n",
        "      return self.X.shape[0]\n",
        "  def __getitem__(self, idx: int):\n",
        "    x = self.X[idx]\n",
        "    label = self.Y[idx]\n",
        "    return x, label\n",
        "\n",
        "\n",
        "# read and filter out bad values\n",
        "df = pd.read_csv(\"./higgs-boson/training/training.csv\")\n",
        "df = df.drop(columns=['EventId', 'Weight']) # drop columns we don't use\n",
        "df = df.replace(-999.000, np.nan)\n",
        "df = df.dropna()\n",
        "df.head()\n",
        "\n",
        "# Label column is our y (output). Rest is our X (input)\n",
        "X = df.iloc[:, :-1].to_numpy()\n",
        "Y = df.iloc[:, -1].to_numpy() # just get Label\n",
        "print(f\"X shape: {X.shape}\")\n",
        "print(f\"Y shape: {Y.shape}\")\n",
        "print(f\"Y values b4 numeration: {Y}\")\n",
        "# turn the signal and background to 1 and 0 respectively\n",
        "Y[Y == \"s\"] = 1\n",
        "Y[Y == \"b\"] = 0\n",
        "print(np.any(Y == \"s\") or np.any(Y == \"b\")) # check if there's any non number left\n",
        "print(f\"Y values after numeration: {Y}\")\n",
        "Y = Y.astype('int32').reshape((-1,1)) # reshape to 2D data to match our training pipeline\n",
        "print(f\"{Y.shape}\\nY values after reshape: {Y}\")\n",
        "\n"
      ],
      "metadata": {
        "id": "RDWbvbC6DgWw",
        "colab": {
          "base_uri": "https://localhost:8080/"
        },
        "outputId": "96142c33-aa90-496c-8fdb-0257fbc90145"
      },
      "execution_count": null,
      "outputs": [
        {
          "output_type": "stream",
          "name": "stdout",
          "text": [
            "X shape: (68114, 30)\n",
            "Y shape: (68114,)\n",
            "Y values b4 numeration: ['s' 'b' 's' ... 's' 's' 'b']\n",
            "False\n",
            "Y values after numeration: [1 0 1 ... 1 1 0]\n",
            "(68114, 1)\n",
            "Y values after reshape: [[1]\n",
            " [0]\n",
            " [1]\n",
            " ...\n",
            " [1]\n",
            " [1]\n",
            " [0]]\n"
          ]
        }
      ]
    },
    {
      "cell_type": "code",
      "source": [
        "Y.shape\n",
        "(Y==1).shape\n",
        "(np.where(Y==1))[0]"
      ],
      "metadata": {
        "colab": {
          "base_uri": "https://localhost:8080/"
        },
        "id": "alMqnCClmqUX",
        "outputId": "08583c59-56bb-4fe3-f879-3c553448027c"
      },
      "execution_count": null,
      "outputs": [
        {
          "output_type": "execute_result",
          "data": {
            "text/plain": [
              "array([    0,     2,     4, ..., 68110, 68111, 68112])"
            ]
          },
          "metadata": {},
          "execution_count": 6
        }
      ]
    },
    {
      "cell_type": "code",
      "source": [
        "Y_signal = Y[Y==1]\n",
        "Y_background = Y[Y==0]\n",
        "\n",
        "signal_indices = np.where(Y==1)[0]\n",
        "background_indices = np.where(Y==0)[0]\n",
        "\n",
        "X_signal = X[signal_indices,:]\n",
        "X_background = X[background_indices,:]\n",
        "\n",
        "print(Y_signal.shape)\n",
        "print(Y_background.shape)\n",
        "print(X_signal.shape)\n",
        "print(X_background.shape)"
      ],
      "metadata": {
        "colab": {
          "base_uri": "https://localhost:8080/"
        },
        "id": "W4OPWpuukb_6",
        "outputId": "3adb0908-88f4-420b-98c2-40e7ec553b19"
      },
      "execution_count": null,
      "outputs": [
        {
          "output_type": "stream",
          "name": "stdout",
          "text": [
            "(31894,)\n",
            "(36220,)\n",
            "(31894, 30)\n",
            "(36220, 30)\n"
          ]
        }
      ]
    },
    {
      "cell_type": "code",
      "source": [
        "# Creating Dataset and Defining model\n",
        "# X = torch.Tensor(X)\n",
        "# Y = torch.Tensor(Y)\n",
        "\n",
        "#Train only on signal\n",
        "X = torch.Tensor(X_signal)\n",
        "Y = torch.Tensor(Y_signal)\n",
        "X_background = torch.Tensor(X_background)\n",
        "Y_background = torch.Tensor(Y_background)\n",
        "\n",
        "\n",
        "X_train, X_test, Y_train, Y_test = train_test_split(X, Y, test_size=0.20)\n",
        "\n",
        "# # 25% of training is validation now\n",
        "# X_train, X_val, Y_train, Y_val = train_test_split(X_train, Y_train, test_size=0.25)\n",
        "\n",
        "# Training Data\n",
        "dataset_train = CustomDataset(X_train, Y_train)\n",
        "train_dataloader = DataLoader(dataset_train, batch_size=batch_size, shuffle=True)\n",
        "\n",
        "# Testing Data\n",
        "dataset_test = CustomDataset(X_test, Y_test)\n",
        "test_dataloader = DataLoader(dataset_test, batch_size=batch_size, shuffle=False)\n",
        "\n",
        "# # Validation Data\n",
        "# dataset_val = CustomDataset(X_val, Y_val)\n",
        "# val_dataloader = DataLoader(dataset_val, batch_size=batch_size, shuffle=True)"
      ],
      "metadata": {
        "id": "IIplNHnGkN4O"
      },
      "execution_count": null,
      "outputs": []
    },
    {
      "cell_type": "markdown",
      "source": [
        "## Utils"
      ],
      "metadata": {
        "id": "5AEehPt9kvow"
      }
    },
    {
      "cell_type": "markdown",
      "source": [
        "### Layer of NN"
      ],
      "metadata": {
        "id": "MhAplNqh_acc"
      }
    },
    {
      "cell_type": "code",
      "source": [
        "class Layer(nn.Module):\n",
        "  # a fcn layer with activation\n",
        "  def __init__(self,input_dim,output_dim):\n",
        "    super().__init__()\n",
        "    layers=[nn.Linear(input_dim,output_dim)]\n",
        "    layers.append(nn.BatchNorm1d(output_dim))\n",
        "    layers.append(nn.LeakyReLU(0.1,inplace=True))\n",
        "    self.block=nn.Sequential(*layers)\n",
        "\n",
        "  def forward(self,x):\n",
        "    return self.block(x)"
      ],
      "metadata": {
        "id": "qirDUTFT_aDf"
      },
      "execution_count": null,
      "outputs": []
    },
    {
      "cell_type": "markdown",
      "source": [
        "### Encoder"
      ],
      "metadata": {
        "id": "bbMmyMYtBJPj"
      }
    },
    {
      "cell_type": "code",
      "source": [
        "class Encoder(nn.Module):\n",
        "  def __init__(self, layer_dims,latent_dim):\n",
        "    super().__init__()\n",
        "    self.layers=nn.Sequential(\n",
        "        *[Layer(layer_dims[i],layer_dims[i+1]) for i in range(len(layer_dims)-1)]\n",
        "        )\n",
        "    self.mean=nn.Linear(layer_dims[-1],latent_dim)\n",
        "    self.logvar=nn.Linear(layer_dims[-1],latent_dim)\n",
        "\n",
        "  def forward(self,x):\n",
        "    h=self.layers(x)\n",
        "    mu=self.mean(h)\n",
        "    log_var=self.logvar(h)\n",
        "\n",
        "    return x,mu,log_var"
      ],
      "metadata": {
        "id": "-4bXnfbABLyR"
      },
      "execution_count": null,
      "outputs": []
    },
    {
      "cell_type": "markdown",
      "source": [
        "### Decoder"
      ],
      "metadata": {
        "id": "mMZWQKTGFkLU"
      }
    },
    {
      "cell_type": "code",
      "source": [
        "class Decoder(nn.Module):\n",
        "  def __init__(self, layer_dims,output_dim):\n",
        "    super().__init__()\n",
        "    layer_dims=np.flip(layer_dims)\n",
        "    self.layers=nn.Sequential(\n",
        "        *[Layer(layer_dims[i],layer_dims[i+1]) for i in range(len(layer_dims)-1)]\n",
        "        )\n",
        "\n",
        "    # self.reconstructed=nn.Linear(layer_dims[-1],output_dim)\n",
        "    new_layer1=nn.Linear(layer_dims[-1],output_dim)\n",
        "    self.layers.add_module(\"new_layer\",new_layer1)\n",
        "    new_layer2=nn.Linear(output_dim,1)\n",
        "    self.layers.add_module(\"new_layer\",new_layer2)\n",
        "\n",
        "    self.reconstructed = nn.Sigmoid()\n",
        "\n",
        "  def forward(self,z):\n",
        "    h=self.layers(z)\n",
        "    recon = self.reconstructed(h)\n",
        "\n",
        "    return np.squeeze(recon)"
      ],
      "metadata": {
        "id": "Lz320HPsFj7c"
      },
      "execution_count": null,
      "outputs": []
    },
    {
      "cell_type": "markdown",
      "source": [
        "### NF Model"
      ],
      "metadata": {
        "id": "JBQAaAYlrt62"
      }
    },
    {
      "cell_type": "code",
      "source": [
        "# Define the Normalizing Flow Layer (Planar Flow)\n",
        "class PlanarFlow(nn.Module):\n",
        "    def __init__(self, dim):\n",
        "        super(PlanarFlow, self).__init__()\n",
        "        self.weight = nn.Parameter(torch.randn(1, dim))\n",
        "        self.bias = nn.Parameter(torch.randn(1))\n",
        "        self.scale = nn.Parameter(torch.randn(1))\n",
        "\n",
        "    def forward(self, z):\n",
        "        activation = torch.mm(z, self.weight.t()) + self.bias\n",
        "        z_new = z + self.scale * torch.tanh(activation)\n",
        "        psi = (1 - torch.tanh(activation)**2) * self.weight\n",
        "        log_det = torch.log(torch.abs(1 + psi*self.scale))\n",
        "\n",
        "        return z_new, log_det\n"
      ],
      "metadata": {
        "id": "lxP0KFJkfemy"
      },
      "execution_count": null,
      "outputs": []
    },
    {
      "cell_type": "markdown",
      "source": [
        "### VAE Class"
      ],
      "metadata": {
        "id": "wKPfzZW_ITk6"
      }
    },
    {
      "cell_type": "code",
      "source": [
        "# Define a class for the VAE\n",
        "class VAE(pl.LightningModule):\n",
        "  def __init__(self, layer_dims,latent_dim,output_dim,stdev=stdev,learning_rate=learning_rate,l2_regularizer=l2_regularizer,\\\n",
        "               batch_size=batch_size,n_epochs=n_epochs,x=X,y=Y,x_train=X_train,y_train=Y_train,x_test=X_test,y_test=Y_test):\n",
        "        super().__init__()\n",
        "        self.learning_rate=learning_rate\n",
        "        self.l2_regularizer=l2_regularizer\n",
        "        self.stdev=stdev\n",
        "        self.batch_size=batch_size\n",
        "        self.n_epochs=n_epochs\n",
        "\n",
        "        self.X=x\n",
        "        self.Y=y\n",
        "        self.X_train=X_train\n",
        "        self.Y_train=Y_train\n",
        "        self.X_test=X_test\n",
        "        self.Y_test=Y_test\n",
        "\n",
        "        self.encoder = Encoder(layer_dims,latent_dim)\n",
        "        self.decoder = Decoder(layer_dims,output_dim)\n",
        "        self.flows = nn.ModuleList([PlanarFlow(latent_dim) for _ in range(n_flows)])\n",
        "\n",
        "\n",
        "  # Reparameterization trick for back propagation\n",
        "  def reparameterize(self, mu, logvar):\n",
        "        if self.training:\n",
        "            std = torch.exp(logvar / 2.)\n",
        "            eps = torch.randn_like(std) * self.stdev\n",
        "            return (eps * std) + mu\n",
        "        else:\n",
        "            return mu\n",
        "\n",
        "  def forward(self, batch):\n",
        "        x_,y = batch\n",
        "        # assert x_ == torch.int32\n",
        "        # print(np.shape(x_))\n",
        "        x,mu,logvar = self.encoder(x_)\n",
        "        z = self.reparameterize(mu, logvar)\n",
        "        # z_flow=self.flow(z)\n",
        "        # recon = self.decoder(z_flow)\n",
        "\n",
        "        # Apply Normalizing Flows\n",
        "        log_det_sum = 0\n",
        "        for flow in self.flows:\n",
        "            z, log_det = flow(z)\n",
        "            log_det_sum += log_det\n",
        "\n",
        "        recon = self.decoder(z)\n",
        "        # print(\"log_det size: \",np.shape(log_det_sum))\n",
        "        return recon, mu, logvar, x,y, log_det_sum\n",
        "\n",
        "  # Loss function using l1 loss\n",
        "  def loss_function(self, y, recon, mu, logvar):\n",
        "        recon_loss = nn.functional.binary_cross_entropy(recon, y, reduction='mean')\n",
        "        kld = -0.5 * torch.mean(1 + logvar - mu ** 2 - logvar.exp())\n",
        "        return recon_loss, kld\n",
        "\n",
        "  def training_step(self, batch, batch_idx):\n",
        "        '''\n",
        "        Executed with each batch of data during training\n",
        "        '''\n",
        "        recon, mu, logvar, x,y, log_det = self.forward(batch)\n",
        "        log_det=torch.mean(log_det,[0,1])\n",
        "\n",
        "        # The loss function compares the input vector to the reconstructed vector\n",
        "        recon_loss, kld = self.loss_function(y, recon, mu, logvar)\n",
        "\n",
        "        # KLD Beta value is 0.05\n",
        "        loss = recon_loss + (0.05 * kld)-log_det\n",
        "\n",
        "        # Log the losses\n",
        "        self.log(\n",
        "            'total_loss', loss.mean(dim=0),\n",
        "            on_epoch=True,on_step=False, prog_bar=True, logger=True,\n",
        "        )\n",
        "        self.log(\n",
        "            'recon_loss', recon_loss.mean(dim=0),\n",
        "            on_epoch=True,on_step=False, prog_bar=True, logger=True,\n",
        "        )\n",
        "        self.log(\n",
        "            'kld', kld.mean(dim=0),\n",
        "            on_epoch=True,on_step=False, prog_bar=True, logger=True,\n",
        "        )\n",
        "        self.log(\n",
        "            'log_det', log_det.mean(dim=0),\n",
        "            on_epoch=True,on_step=False, prog_bar=True, logger=True,\n",
        "        )\n",
        "\n",
        "        return loss\n",
        "\n",
        "  def test_step(self, batch, batch_idx):\n",
        "        recon, mu, logvar, x,y, log_det = self.forward(batch)\n",
        "        log_det=torch.mean(log_det,[0,1])\n",
        "        recon_loss, kld = self.loss_function(y, recon, mu, logvar)\n",
        "        loss = recon_loss + (0.05 * kld)-log_det\n",
        "        self.log('test_loss', loss)\n",
        "        return loss\n",
        "\n",
        "  def configure_optimizers(self):\n",
        "        # Define the Adam optimiser:\n",
        "        opt = torch.optim.AdamW(\n",
        "            self.parameters(), lr=self.learning_rate,\n",
        "            weight_decay=self.l2_regularizer,\n",
        "        )\n",
        "\n",
        "        return [opt]\n",
        "\n",
        "  def train_dataloader(self):\n",
        "        # X = torch.Tensor(self.X)\n",
        "        # Y = torch.Tensor(self.Y)\n",
        "        # X_train, X_test, Y_train, Y_test = train_test_split(X, Y, test_size=0.20,shuffle=False)\n",
        "        X_train = torch.Tensor(self.X_train)\n",
        "        Y_train = torch.Tensor(self.Y_train)\n",
        "        dataset_train = CustomDataset(X_train, Y_train)\n",
        "        return DataLoader(dataset_train, batch_size=self.batch_size, shuffle=True)\n",
        "\n",
        "  def test_dataloader(self):\n",
        "        # X = torch.Tensor(self.X)\n",
        "        # Y = torch.Tensor(self.Y)\n",
        "        # X_train, X_test, Y_train, Y_test = train_test_split(X, Y, test_size=0.20,shuffle=False)\n",
        "        X_test = torch.Tensor(self.X_test)\n",
        "        Y_test = torch.Tensor(self.Y_test)\n",
        "        dataset_test = CustomDataset(X_test, Y_test)\n",
        "        return DataLoader(dataset_test, batch_size=self.batch_size, shuffle=False)\n",
        "\n",
        "def training_epoch_end(self, outputs):\n",
        "        avg_loss = torch.stack([x['loss'] for x in outputs]).mean()\n",
        "        self.log('avg_train_loss',avg_loss,'step',self.current_epoch)"
      ],
      "metadata": {
        "id": "qHUGqnRjITTN"
      },
      "execution_count": null,
      "outputs": []
    },
    {
      "cell_type": "markdown",
      "source": [
        "## Modeling"
      ],
      "metadata": {
        "id": "tTQ2rMAApJYJ"
      }
    },
    {
      "cell_type": "code",
      "source": [
        "# Declare the model with the parameters\n",
        "model=VAE(layer_dims=layer_dims,latent_dim=latent_dim,output_dim=output_dim,\n",
        "          stdev=stdev,learning_rate=learning_rate,l2_regularizer=l2_regularizer,\n",
        "               batch_size=batch_size,n_epochs=n_epochs,x=X,y=Y,x_train=X_train,y_train=Y_train,x_test=X_test,y_test=Y_test)\n",
        "\n",
        "\n",
        "# Set your trainer\n",
        "trainer=pl.Trainer(accelerator='gpu',devices=1,\n",
        "                   max_epochs=n_epochs,\n",
        "                   gradient_clip_val=10.,enable_model_summary=False)\n",
        "# Fit the model\n",
        "trainer.fit(model)"
      ],
      "metadata": {
        "id": "_DXmnCbaFoKT",
        "colab": {
          "base_uri": "https://localhost:8080/",
          "height": 191,
          "referenced_widgets": [
            "f7c660b617f04d839b965a29e0857277",
            "e3f9c800707b4cc0841c503059f81ae7",
            "fe0473ad068c4afbad7b2ee7dbe57573",
            "d1d4e3dc279c462ebfd67ebd6961de6f",
            "ba559e51277943278018449ec68c094e",
            "6a2001dafae440888422bbe835034aba",
            "acd81a5d63944527b40f6fb59abb2c7f",
            "ce03c07fdc434530b0b7b14fac7d8470",
            "43b33930504141f9adf793f3ce743776",
            "f1c603b9cfa545819695752ab44f0cd5",
            "1e7d0f4ab4414d67a598bc5086bbbb98"
          ]
        },
        "outputId": "ac22473e-1801-4ed1-d558-26f222fef998"
      },
      "execution_count": null,
      "outputs": [
        {
          "output_type": "stream",
          "name": "stderr",
          "text": [
            "INFO:pytorch_lightning.utilities.rank_zero:GPU available: True (cuda), used: True\n",
            "INFO:pytorch_lightning.utilities.rank_zero:TPU available: False, using: 0 TPU cores\n",
            "INFO:pytorch_lightning.utilities.rank_zero:IPU available: False, using: 0 IPUs\n",
            "INFO:pytorch_lightning.utilities.rank_zero:HPU available: False, using: 0 HPUs\n",
            "WARNING:pytorch_lightning.loggers.tensorboard:Missing logger folder: /content/lightning_logs\n",
            "INFO:pytorch_lightning.accelerators.cuda:LOCAL_RANK: 0 - CUDA_VISIBLE_DEVICES: [0]\n",
            "/usr/local/lib/python3.10/dist-packages/pytorch_lightning/trainer/connectors/data_connector.py:441: The 'train_dataloader' does not have many workers which may be a bottleneck. Consider increasing the value of the `num_workers` argument` to `num_workers=1` in the `DataLoader` to improve performance.\n"
          ]
        },
        {
          "output_type": "display_data",
          "data": {
            "text/plain": [
              "Training: |          | 0/? [00:00<?, ?it/s]"
            ],
            "application/vnd.jupyter.widget-view+json": {
              "version_major": 2,
              "version_minor": 0,
              "model_id": "f7c660b617f04d839b965a29e0857277"
            }
          },
          "metadata": {}
        }
      ]
    },
    {
      "cell_type": "code",
      "source": [
        "# Look at the test error just to make sure it's similar to train error, to check for overfitting\n",
        "\n",
        "trainer.test(model)"
      ],
      "metadata": {
        "id": "e5PIXh6fFpOk"
      },
      "execution_count": null,
      "outputs": []
    },
    {
      "cell_type": "code",
      "source": [
        "test_loss=trainer.test(model)\n",
        "# test_loss=np.array(test_loss)\n",
        "test_loss = test_loss[0]['test_loss']\n",
        "print(test_loss)"
      ],
      "metadata": {
        "id": "4klSNEM8NY0S"
      },
      "execution_count": null,
      "outputs": []
    },
    {
      "cell_type": "code",
      "source": [
        "# %tensorboard --inspect --logdir lightning_logs/"
      ],
      "metadata": {
        "id": "6QWEra41W2Km"
      },
      "execution_count": null,
      "outputs": []
    },
    {
      "cell_type": "code",
      "source": [
        "# !kill 26740"
      ],
      "metadata": {
        "id": "30-YqCS_e4w9"
      },
      "execution_count": null,
      "outputs": []
    },
    {
      "cell_type": "code",
      "source": [
        "# Visualize the plots on tensorboard\n",
        "\n",
        "%reload_ext tensorboard\n",
        "%tensorboard --logdir=lightning_logs --host localhost --load_fast=false\n"
      ],
      "metadata": {
        "id": "Ll9kUMJ2FtOU"
      },
      "execution_count": null,
      "outputs": []
    },
    {
      "cell_type": "markdown",
      "source": [
        "## Anomaly Detection"
      ],
      "metadata": {
        "id": "EYHnqMYZscuf"
      }
    },
    {
      "cell_type": "code",
      "source": [
        "print(X_test.shape)\n",
        "# print(X_background.shape)\n",
        "n_bg = 5000\n",
        "\n",
        "X_test_with_bg = torch.cat((X_test,X_background[0:n_bg,:]), dim=0)\n",
        "Y_test_with_bg = torch.cat((Y_test,Y_background[0:n_bg]), dim=0)\n",
        "\n",
        "# Total data points\n",
        "num_rows=X_test_with_bg.size(0)\n",
        "\n",
        "# Shuffle the rows\n",
        "indices = torch.randperm(num_rows)\n",
        "X_test_with_bg = X_test_with_bg[indices]\n",
        "Y_test_with_bg = Y_test_with_bg[indices]\n",
        "\n",
        "\n",
        "print(X_test_with_bg.shape)\n",
        "print(Y_test_with_bg.shape)\n",
        "dataset_test_with_bg = CustomDataset(X_test_with_bg, Y_test_with_bg)\n"
      ],
      "metadata": {
        "colab": {
          "base_uri": "https://localhost:8080/"
        },
        "id": "NUjFkfGGqNMO",
        "outputId": "970fbd66-eeaa-46d5-9ae8-195180d8289b"
      },
      "execution_count": null,
      "outputs": [
        {
          "output_type": "stream",
          "name": "stdout",
          "text": [
            "torch.Size([6379, 30])\n",
            "torch.Size([6479, 30])\n",
            "torch.Size([6479])\n"
          ]
        }
      ]
    },
    {
      "cell_type": "code",
      "source": [
        "# dataset_testing = dataset_test\n",
        "dataset_testing = dataset_test_with_bg\n",
        "\n",
        "# Load your trained model\n",
        "trained_model=model\n",
        "trained_model.freeze()\n",
        "\n",
        "losses = []\n",
        "\n",
        "# Find losses for all the testing data\n",
        "\n",
        "for i in range(len(dataset_testing)):\n",
        "    x, y = dataset_testing[i]\n",
        "    x.unsqueeze_(0)\n",
        "    y_hat, mu, logvar, x,y,log_det = trained_model.forward((x,y))\n",
        "    log_det=torch.mean(log_det,[0,1])\n",
        "    recon_loss, kld = trained_model.loss_function(y, y_hat, mu, logvar)\n",
        "    total_loss=recon_loss + (0.05 * kld)-log_det\n",
        "    losses.append(total_loss.item())\n",
        "\n",
        "losses=np.array(losses)"
      ],
      "metadata": {
        "id": "o1AGiMEklvrl"
      },
      "execution_count": null,
      "outputs": []
    },
    {
      "cell_type": "code",
      "source": [
        "# Define Threshold\n",
        "threshold = 3*abs(test_loss)\n",
        "\n",
        "# Differentiate signal and anomaly\n",
        "signal_index=np.where(losses<threshold)\n",
        "signal_loss=losses[signal_index]\n",
        "\n",
        "anomaly_index=np.where(losses>=threshold)\n",
        "anomaly_loss=losses[anomaly_index]\n",
        "\n",
        "\n",
        "# Plot\n",
        "fig,ax =plt.subplots()\n",
        "\n",
        "ax.scatter(signal_index,signal_loss,color='blue',label='Signal')\n",
        "ax.scatter(anomaly_index,anomaly_loss,color='red',marker='x',label='Anomaly')\n",
        "\n",
        "ax.set_xlabel('Index')\n",
        "ax.set_ylabel('Loss')\n",
        "ax.legend(loc='center right')\n",
        "ax.set_title('Anomaly Detection from Loss')\n",
        "\n",
        "plt.show()\n"
      ],
      "metadata": {
        "colab": {
          "base_uri": "https://localhost:8080/",
          "height": 472
        },
        "id": "pjWrefnoM7_k",
        "outputId": "17d0c434-e8fd-4e22-f2a1-09078e3ed3ed"
      },
      "execution_count": null,
      "outputs": [
        {
          "output_type": "display_data",
          "data": {
            "text/plain": [
              "<Figure size 640x480 with 1 Axes>"
            ],
            "image/png": "[encoded data removed]"
          },
          "metadata": {}
        }
      ]
    },
    {
      "cell_type": "code",
      "source": [
        "Y_true=Y_test_with_bg.numpy()\n",
        "Y_pred=np.zeros(len(Y_true))\n",
        "\n",
        "for i in range(len(Y_pred)):\n",
        "  if(losses[i]>=threshold):\n",
        "    Y_pred[i] = 0\n",
        "  else:\n",
        "    Y_pred[i] = 1\n",
        "\n",
        "\n",
        "Y_pred\n",
        "total_predicted_anomaly=np.count_nonzero(Y_pred==0)\n",
        "score=roc_auc_score(Y_true,Y_pred)\n",
        "\n",
        "print(\"Total Anomalies deteted: \",total_predicted_anomaly)\n",
        "print(\"ROC AUC Score: \",score)"
      ],
      "metadata": {
        "colab": {
          "base_uri": "https://localhost:8080/"
        },
        "id": "XqU1qvKaWtQ8",
        "outputId": "5ec878ed-866b-4eba-8f78-18751b2798b1"
      },
      "execution_count": null,
      "outputs": [
        {
          "output_type": "stream",
          "name": "stdout",
          "text": [
            "Total Anomalies deteted:  100\n",
            "ROC AUC Score:  1.0\n"
          ]
        }
      ]
    }
  ]
}